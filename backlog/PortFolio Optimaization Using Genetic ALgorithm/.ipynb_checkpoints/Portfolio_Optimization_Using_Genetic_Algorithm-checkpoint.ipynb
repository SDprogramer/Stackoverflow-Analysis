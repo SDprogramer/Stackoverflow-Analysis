{
 "cells": [
  {
   "cell_type": "markdown",
   "metadata": {
    "id": "FgneRLb5xWON"
   },
   "source": [
    "# **Portfolio Optimization Using Genetic Algorithm**"
   ]
  },
  {
   "cell_type": "markdown",
   "metadata": {
    "id": "HTGK4uLYMf5A"
   },
   "source": [
    "Load the data"
   ]
  },
  {
   "cell_type": "code",
   "execution_count": 12,
   "metadata": {
    "colab": {
     "base_uri": "https://localhost:8080/",
     "height": 324
    },
    "id": "CCgHhKp6FHbT",
    "outputId": "f358ffad-1db0-4203-ee75-37ce1f5c1234"
   },
   "outputs": [
    {
     "ename": "FileNotFoundError",
     "evalue": "[Errno 2] No such file or directory: '/content/portfolio_data.csv'",
     "output_type": "error",
     "traceback": [
      "\u001b[1;31m---------------------------------------------------------------------------\u001b[0m",
      "\u001b[1;31mFileNotFoundError\u001b[0m                         Traceback (most recent call last)",
      "Cell \u001b[1;32mIn[12], line 4\u001b[0m\n\u001b[0;32m      1\u001b[0m \u001b[38;5;28;01mimport\u001b[39;00m \u001b[38;5;21;01mpandas\u001b[39;00m \u001b[38;5;28;01mas\u001b[39;00m \u001b[38;5;21;01mpd\u001b[39;00m\n\u001b[0;32m      3\u001b[0m \u001b[38;5;66;03m# Load data\u001b[39;00m\n\u001b[1;32m----> 4\u001b[0m df \u001b[38;5;241m=\u001b[39m \u001b[43mpd\u001b[49m\u001b[38;5;241;43m.\u001b[39;49m\u001b[43mread_csv\u001b[49m\u001b[43m(\u001b[49m\u001b[38;5;124;43m'\u001b[39;49m\u001b[38;5;124;43m/content/portfolio_data.csv\u001b[39;49m\u001b[38;5;124;43m'\u001b[39;49m\u001b[43m,\u001b[49m\u001b[43m \u001b[49m\u001b[43mindex_col\u001b[49m\u001b[38;5;241;43m=\u001b[39;49m\u001b[38;5;241;43m0\u001b[39;49m\u001b[43m,\u001b[49m\u001b[43m \u001b[49m\u001b[43mparse_dates\u001b[49m\u001b[38;5;241;43m=\u001b[39;49m\u001b[38;5;28;43;01mTrue\u001b[39;49;00m\u001b[43m)\u001b[49m\n\u001b[0;32m      5\u001b[0m df\u001b[38;5;241m.\u001b[39mhead()\n",
      "File \u001b[1;32mD:\\Anaconda\\Lib\\site-packages\\pandas\\io\\parsers\\readers.py:1026\u001b[0m, in \u001b[0;36mread_csv\u001b[1;34m(filepath_or_buffer, sep, delimiter, header, names, index_col, usecols, dtype, engine, converters, true_values, false_values, skipinitialspace, skiprows, skipfooter, nrows, na_values, keep_default_na, na_filter, verbose, skip_blank_lines, parse_dates, infer_datetime_format, keep_date_col, date_parser, date_format, dayfirst, cache_dates, iterator, chunksize, compression, thousands, decimal, lineterminator, quotechar, quoting, doublequote, escapechar, comment, encoding, encoding_errors, dialect, on_bad_lines, delim_whitespace, low_memory, memory_map, float_precision, storage_options, dtype_backend)\u001b[0m\n\u001b[0;32m   1013\u001b[0m kwds_defaults \u001b[38;5;241m=\u001b[39m _refine_defaults_read(\n\u001b[0;32m   1014\u001b[0m     dialect,\n\u001b[0;32m   1015\u001b[0m     delimiter,\n\u001b[1;32m   (...)\u001b[0m\n\u001b[0;32m   1022\u001b[0m     dtype_backend\u001b[38;5;241m=\u001b[39mdtype_backend,\n\u001b[0;32m   1023\u001b[0m )\n\u001b[0;32m   1024\u001b[0m kwds\u001b[38;5;241m.\u001b[39mupdate(kwds_defaults)\n\u001b[1;32m-> 1026\u001b[0m \u001b[38;5;28;01mreturn\u001b[39;00m \u001b[43m_read\u001b[49m\u001b[43m(\u001b[49m\u001b[43mfilepath_or_buffer\u001b[49m\u001b[43m,\u001b[49m\u001b[43m \u001b[49m\u001b[43mkwds\u001b[49m\u001b[43m)\u001b[49m\n",
      "File \u001b[1;32mD:\\Anaconda\\Lib\\site-packages\\pandas\\io\\parsers\\readers.py:620\u001b[0m, in \u001b[0;36m_read\u001b[1;34m(filepath_or_buffer, kwds)\u001b[0m\n\u001b[0;32m    617\u001b[0m _validate_names(kwds\u001b[38;5;241m.\u001b[39mget(\u001b[38;5;124m\"\u001b[39m\u001b[38;5;124mnames\u001b[39m\u001b[38;5;124m\"\u001b[39m, \u001b[38;5;28;01mNone\u001b[39;00m))\n\u001b[0;32m    619\u001b[0m \u001b[38;5;66;03m# Create the parser.\u001b[39;00m\n\u001b[1;32m--> 620\u001b[0m parser \u001b[38;5;241m=\u001b[39m \u001b[43mTextFileReader\u001b[49m\u001b[43m(\u001b[49m\u001b[43mfilepath_or_buffer\u001b[49m\u001b[43m,\u001b[49m\u001b[43m \u001b[49m\u001b[38;5;241;43m*\u001b[39;49m\u001b[38;5;241;43m*\u001b[39;49m\u001b[43mkwds\u001b[49m\u001b[43m)\u001b[49m\n\u001b[0;32m    622\u001b[0m \u001b[38;5;28;01mif\u001b[39;00m chunksize \u001b[38;5;129;01mor\u001b[39;00m iterator:\n\u001b[0;32m    623\u001b[0m     \u001b[38;5;28;01mreturn\u001b[39;00m parser\n",
      "File \u001b[1;32mD:\\Anaconda\\Lib\\site-packages\\pandas\\io\\parsers\\readers.py:1620\u001b[0m, in \u001b[0;36mTextFileReader.__init__\u001b[1;34m(self, f, engine, **kwds)\u001b[0m\n\u001b[0;32m   1617\u001b[0m     \u001b[38;5;28mself\u001b[39m\u001b[38;5;241m.\u001b[39moptions[\u001b[38;5;124m\"\u001b[39m\u001b[38;5;124mhas_index_names\u001b[39m\u001b[38;5;124m\"\u001b[39m] \u001b[38;5;241m=\u001b[39m kwds[\u001b[38;5;124m\"\u001b[39m\u001b[38;5;124mhas_index_names\u001b[39m\u001b[38;5;124m\"\u001b[39m]\n\u001b[0;32m   1619\u001b[0m \u001b[38;5;28mself\u001b[39m\u001b[38;5;241m.\u001b[39mhandles: IOHandles \u001b[38;5;241m|\u001b[39m \u001b[38;5;28;01mNone\u001b[39;00m \u001b[38;5;241m=\u001b[39m \u001b[38;5;28;01mNone\u001b[39;00m\n\u001b[1;32m-> 1620\u001b[0m \u001b[38;5;28mself\u001b[39m\u001b[38;5;241m.\u001b[39m_engine \u001b[38;5;241m=\u001b[39m \u001b[38;5;28;43mself\u001b[39;49m\u001b[38;5;241;43m.\u001b[39;49m\u001b[43m_make_engine\u001b[49m\u001b[43m(\u001b[49m\u001b[43mf\u001b[49m\u001b[43m,\u001b[49m\u001b[43m \u001b[49m\u001b[38;5;28;43mself\u001b[39;49m\u001b[38;5;241;43m.\u001b[39;49m\u001b[43mengine\u001b[49m\u001b[43m)\u001b[49m\n",
      "File \u001b[1;32mD:\\Anaconda\\Lib\\site-packages\\pandas\\io\\parsers\\readers.py:1880\u001b[0m, in \u001b[0;36mTextFileReader._make_engine\u001b[1;34m(self, f, engine)\u001b[0m\n\u001b[0;32m   1878\u001b[0m     \u001b[38;5;28;01mif\u001b[39;00m \u001b[38;5;124m\"\u001b[39m\u001b[38;5;124mb\u001b[39m\u001b[38;5;124m\"\u001b[39m \u001b[38;5;129;01mnot\u001b[39;00m \u001b[38;5;129;01min\u001b[39;00m mode:\n\u001b[0;32m   1879\u001b[0m         mode \u001b[38;5;241m+\u001b[39m\u001b[38;5;241m=\u001b[39m \u001b[38;5;124m\"\u001b[39m\u001b[38;5;124mb\u001b[39m\u001b[38;5;124m\"\u001b[39m\n\u001b[1;32m-> 1880\u001b[0m \u001b[38;5;28mself\u001b[39m\u001b[38;5;241m.\u001b[39mhandles \u001b[38;5;241m=\u001b[39m \u001b[43mget_handle\u001b[49m\u001b[43m(\u001b[49m\n\u001b[0;32m   1881\u001b[0m \u001b[43m    \u001b[49m\u001b[43mf\u001b[49m\u001b[43m,\u001b[49m\n\u001b[0;32m   1882\u001b[0m \u001b[43m    \u001b[49m\u001b[43mmode\u001b[49m\u001b[43m,\u001b[49m\n\u001b[0;32m   1883\u001b[0m \u001b[43m    \u001b[49m\u001b[43mencoding\u001b[49m\u001b[38;5;241;43m=\u001b[39;49m\u001b[38;5;28;43mself\u001b[39;49m\u001b[38;5;241;43m.\u001b[39;49m\u001b[43moptions\u001b[49m\u001b[38;5;241;43m.\u001b[39;49m\u001b[43mget\u001b[49m\u001b[43m(\u001b[49m\u001b[38;5;124;43m\"\u001b[39;49m\u001b[38;5;124;43mencoding\u001b[39;49m\u001b[38;5;124;43m\"\u001b[39;49m\u001b[43m,\u001b[49m\u001b[43m \u001b[49m\u001b[38;5;28;43;01mNone\u001b[39;49;00m\u001b[43m)\u001b[49m\u001b[43m,\u001b[49m\n\u001b[0;32m   1884\u001b[0m \u001b[43m    \u001b[49m\u001b[43mcompression\u001b[49m\u001b[38;5;241;43m=\u001b[39;49m\u001b[38;5;28;43mself\u001b[39;49m\u001b[38;5;241;43m.\u001b[39;49m\u001b[43moptions\u001b[49m\u001b[38;5;241;43m.\u001b[39;49m\u001b[43mget\u001b[49m\u001b[43m(\u001b[49m\u001b[38;5;124;43m\"\u001b[39;49m\u001b[38;5;124;43mcompression\u001b[39;49m\u001b[38;5;124;43m\"\u001b[39;49m\u001b[43m,\u001b[49m\u001b[43m \u001b[49m\u001b[38;5;28;43;01mNone\u001b[39;49;00m\u001b[43m)\u001b[49m\u001b[43m,\u001b[49m\n\u001b[0;32m   1885\u001b[0m \u001b[43m    \u001b[49m\u001b[43mmemory_map\u001b[49m\u001b[38;5;241;43m=\u001b[39;49m\u001b[38;5;28;43mself\u001b[39;49m\u001b[38;5;241;43m.\u001b[39;49m\u001b[43moptions\u001b[49m\u001b[38;5;241;43m.\u001b[39;49m\u001b[43mget\u001b[49m\u001b[43m(\u001b[49m\u001b[38;5;124;43m\"\u001b[39;49m\u001b[38;5;124;43mmemory_map\u001b[39;49m\u001b[38;5;124;43m\"\u001b[39;49m\u001b[43m,\u001b[49m\u001b[43m \u001b[49m\u001b[38;5;28;43;01mFalse\u001b[39;49;00m\u001b[43m)\u001b[49m\u001b[43m,\u001b[49m\n\u001b[0;32m   1886\u001b[0m \u001b[43m    \u001b[49m\u001b[43mis_text\u001b[49m\u001b[38;5;241;43m=\u001b[39;49m\u001b[43mis_text\u001b[49m\u001b[43m,\u001b[49m\n\u001b[0;32m   1887\u001b[0m \u001b[43m    \u001b[49m\u001b[43merrors\u001b[49m\u001b[38;5;241;43m=\u001b[39;49m\u001b[38;5;28;43mself\u001b[39;49m\u001b[38;5;241;43m.\u001b[39;49m\u001b[43moptions\u001b[49m\u001b[38;5;241;43m.\u001b[39;49m\u001b[43mget\u001b[49m\u001b[43m(\u001b[49m\u001b[38;5;124;43m\"\u001b[39;49m\u001b[38;5;124;43mencoding_errors\u001b[39;49m\u001b[38;5;124;43m\"\u001b[39;49m\u001b[43m,\u001b[49m\u001b[43m \u001b[49m\u001b[38;5;124;43m\"\u001b[39;49m\u001b[38;5;124;43mstrict\u001b[39;49m\u001b[38;5;124;43m\"\u001b[39;49m\u001b[43m)\u001b[49m\u001b[43m,\u001b[49m\n\u001b[0;32m   1888\u001b[0m \u001b[43m    \u001b[49m\u001b[43mstorage_options\u001b[49m\u001b[38;5;241;43m=\u001b[39;49m\u001b[38;5;28;43mself\u001b[39;49m\u001b[38;5;241;43m.\u001b[39;49m\u001b[43moptions\u001b[49m\u001b[38;5;241;43m.\u001b[39;49m\u001b[43mget\u001b[49m\u001b[43m(\u001b[49m\u001b[38;5;124;43m\"\u001b[39;49m\u001b[38;5;124;43mstorage_options\u001b[39;49m\u001b[38;5;124;43m\"\u001b[39;49m\u001b[43m,\u001b[49m\u001b[43m \u001b[49m\u001b[38;5;28;43;01mNone\u001b[39;49;00m\u001b[43m)\u001b[49m\u001b[43m,\u001b[49m\n\u001b[0;32m   1889\u001b[0m \u001b[43m\u001b[49m\u001b[43m)\u001b[49m\n\u001b[0;32m   1890\u001b[0m \u001b[38;5;28;01massert\u001b[39;00m \u001b[38;5;28mself\u001b[39m\u001b[38;5;241m.\u001b[39mhandles \u001b[38;5;129;01mis\u001b[39;00m \u001b[38;5;129;01mnot\u001b[39;00m \u001b[38;5;28;01mNone\u001b[39;00m\n\u001b[0;32m   1891\u001b[0m f \u001b[38;5;241m=\u001b[39m \u001b[38;5;28mself\u001b[39m\u001b[38;5;241m.\u001b[39mhandles\u001b[38;5;241m.\u001b[39mhandle\n",
      "File \u001b[1;32mD:\\Anaconda\\Lib\\site-packages\\pandas\\io\\common.py:873\u001b[0m, in \u001b[0;36mget_handle\u001b[1;34m(path_or_buf, mode, encoding, compression, memory_map, is_text, errors, storage_options)\u001b[0m\n\u001b[0;32m    868\u001b[0m \u001b[38;5;28;01melif\u001b[39;00m \u001b[38;5;28misinstance\u001b[39m(handle, \u001b[38;5;28mstr\u001b[39m):\n\u001b[0;32m    869\u001b[0m     \u001b[38;5;66;03m# Check whether the filename is to be opened in binary mode.\u001b[39;00m\n\u001b[0;32m    870\u001b[0m     \u001b[38;5;66;03m# Binary mode does not support 'encoding' and 'newline'.\u001b[39;00m\n\u001b[0;32m    871\u001b[0m     \u001b[38;5;28;01mif\u001b[39;00m ioargs\u001b[38;5;241m.\u001b[39mencoding \u001b[38;5;129;01mand\u001b[39;00m \u001b[38;5;124m\"\u001b[39m\u001b[38;5;124mb\u001b[39m\u001b[38;5;124m\"\u001b[39m \u001b[38;5;129;01mnot\u001b[39;00m \u001b[38;5;129;01min\u001b[39;00m ioargs\u001b[38;5;241m.\u001b[39mmode:\n\u001b[0;32m    872\u001b[0m         \u001b[38;5;66;03m# Encoding\u001b[39;00m\n\u001b[1;32m--> 873\u001b[0m         handle \u001b[38;5;241m=\u001b[39m \u001b[38;5;28;43mopen\u001b[39;49m\u001b[43m(\u001b[49m\n\u001b[0;32m    874\u001b[0m \u001b[43m            \u001b[49m\u001b[43mhandle\u001b[49m\u001b[43m,\u001b[49m\n\u001b[0;32m    875\u001b[0m \u001b[43m            \u001b[49m\u001b[43mioargs\u001b[49m\u001b[38;5;241;43m.\u001b[39;49m\u001b[43mmode\u001b[49m\u001b[43m,\u001b[49m\n\u001b[0;32m    876\u001b[0m \u001b[43m            \u001b[49m\u001b[43mencoding\u001b[49m\u001b[38;5;241;43m=\u001b[39;49m\u001b[43mioargs\u001b[49m\u001b[38;5;241;43m.\u001b[39;49m\u001b[43mencoding\u001b[49m\u001b[43m,\u001b[49m\n\u001b[0;32m    877\u001b[0m \u001b[43m            \u001b[49m\u001b[43merrors\u001b[49m\u001b[38;5;241;43m=\u001b[39;49m\u001b[43merrors\u001b[49m\u001b[43m,\u001b[49m\n\u001b[0;32m    878\u001b[0m \u001b[43m            \u001b[49m\u001b[43mnewline\u001b[49m\u001b[38;5;241;43m=\u001b[39;49m\u001b[38;5;124;43m\"\u001b[39;49m\u001b[38;5;124;43m\"\u001b[39;49m\u001b[43m,\u001b[49m\n\u001b[0;32m    879\u001b[0m \u001b[43m        \u001b[49m\u001b[43m)\u001b[49m\n\u001b[0;32m    880\u001b[0m     \u001b[38;5;28;01melse\u001b[39;00m:\n\u001b[0;32m    881\u001b[0m         \u001b[38;5;66;03m# Binary mode\u001b[39;00m\n\u001b[0;32m    882\u001b[0m         handle \u001b[38;5;241m=\u001b[39m \u001b[38;5;28mopen\u001b[39m(handle, ioargs\u001b[38;5;241m.\u001b[39mmode)\n",
      "\u001b[1;31mFileNotFoundError\u001b[0m: [Errno 2] No such file or directory: '/content/portfolio_data.csv'"
     ]
    }
   ],
   "source": [
    "import pandas as pd\n",
    "\n",
    "# Load data\n",
    "df = pd.read_csv('/content/portfolio_data.csv', index_col=0, parse_dates=True)\n",
    "df.head()\n"
   ]
  },
  {
   "cell_type": "code",
   "execution_count": null,
   "metadata": {
    "id": "SzuX4BaAMi1X"
   },
   "outputs": [],
   "source": []
  },
  {
   "cell_type": "markdown",
   "metadata": {
    "id": "otw_6mVnwCrn"
   },
   "source": [
    "# **Calculate Return**"
   ]
  },
  {
   "cell_type": "code",
   "execution_count": null,
   "metadata": {
    "colab": {
     "base_uri": "https://localhost:8080/",
     "height": 237
    },
    "id": "Pm3NBpSVFbEj",
    "outputId": "73fa7e6b-70d1-4b18-bbe0-393da1eaedff"
   },
   "outputs": [
    {
     "data": {
      "application/vnd.google.colaboratory.intrinsic+json": {
       "summary": "{\n  \"name\": \"returns\",\n  \"rows\": 1042,\n  \"fields\": [\n    {\n      \"column\": \"timestamp\",\n      \"properties\": {\n        \"dtype\": \"string\",\n        \"num_unique_values\": 1042,\n        \"samples\": [\n          \"14-01-2022\",\n          \"03-04-2023\",\n          \"02-11-2021\"\n        ],\n        \"semantic_type\": \"\",\n        \"description\": \"\"\n      }\n    },\n    {\n      \"column\": \"Asset_1\",\n      \"properties\": {\n        \"dtype\": \"number\",\n        \"std\": 224.6327785434078,\n        \"min\": -0.9999210466892944,\n        \"max\": 7222.0687432832765,\n        \"num_unique_values\": 1042,\n        \"samples\": [\n          -0.6761679148750576,\n          0.49714190646952816,\n          -0.4763627141394565\n        ],\n        \"semantic_type\": \"\",\n        \"description\": \"\"\n      }\n    },\n    {\n      \"column\": \"Asset_2\",\n      \"properties\": {\n        \"dtype\": \"number\",\n        \"std\": 59.53731595106503,\n        \"min\": -0.9988055106324675,\n        \"max\": 1736.7807387827322,\n        \"num_unique_values\": 1042,\n        \"samples\": [\n          0.2878634293587754,\n          -0.8129127864207362,\n          -0.8511612594885148\n        ],\n        \"semantic_type\": \"\",\n        \"description\": \"\"\n      }\n    },\n    {\n      \"column\": \"Asset_3\",\n      \"properties\": {\n        \"dtype\": \"number\",\n        \"std\": 17.748320739953726,\n        \"min\": -0.9993120588883697,\n        \"max\": 380.4407359233574,\n        \"num_unique_values\": 1042,\n        \"samples\": [\n          -0.5503353506007611,\n          -0.06812604800404243,\n          -0.4344354157245046\n        ],\n        \"semantic_type\": \"\",\n        \"description\": \"\"\n      }\n    },\n    {\n      \"column\": \"Portfolio_Value\",\n      \"properties\": {\n        \"dtype\": \"number\",\n        \"std\": 0.78378699798799,\n        \"min\": -0.8891291434918596,\n        \"max\": 6.697990119731567,\n        \"num_unique_values\": 1042,\n        \"samples\": [\n          -0.21442045447586378,\n          -0.2965740287022468,\n          -0.6318635767325322\n        ],\n        \"semantic_type\": \"\",\n        \"description\": \"\"\n      }\n    },\n    {\n      \"column\": \"Market_Index\",\n      \"properties\": {\n        \"dtype\": \"number\",\n        \"std\": 0.06793369258923397,\n        \"min\": -0.2066701830021066,\n        \"max\": 0.20590153875399797,\n        \"num_unique_values\": 1042,\n        \"samples\": [\n          -0.0447209020183893,\n          -0.12488407279002756,\n          -0.045631757458398425\n        ],\n        \"semantic_type\": \"\",\n        \"description\": \"\"\n      }\n    }\n  ]\n}",
       "type": "dataframe",
       "variable_name": "returns"
      },
      "text/html": [
       "\n",
       "  <div id=\"df-52578153-15f5-480e-8584-e072b71867e0\" class=\"colab-df-container\">\n",
       "    <div>\n",
       "<style scoped>\n",
       "    .dataframe tbody tr th:only-of-type {\n",
       "        vertical-align: middle;\n",
       "    }\n",
       "\n",
       "    .dataframe tbody tr th {\n",
       "        vertical-align: top;\n",
       "    }\n",
       "\n",
       "    .dataframe thead th {\n",
       "        text-align: right;\n",
       "    }\n",
       "</style>\n",
       "<table border=\"1\" class=\"dataframe\">\n",
       "  <thead>\n",
       "    <tr style=\"text-align: right;\">\n",
       "      <th></th>\n",
       "      <th>Asset_1</th>\n",
       "      <th>Asset_2</th>\n",
       "      <th>Asset_3</th>\n",
       "      <th>Portfolio_Value</th>\n",
       "      <th>Market_Index</th>\n",
       "    </tr>\n",
       "    <tr>\n",
       "      <th>timestamp</th>\n",
       "      <th></th>\n",
       "      <th></th>\n",
       "      <th></th>\n",
       "      <th></th>\n",
       "      <th></th>\n",
       "    </tr>\n",
       "  </thead>\n",
       "  <tbody>\n",
       "    <tr>\n",
       "      <th>02-01-2020</th>\n",
       "      <td>-0.196916</td>\n",
       "      <td>1.104952</td>\n",
       "      <td>0.491983</td>\n",
       "      <td>0.509525</td>\n",
       "      <td>-0.008552</td>\n",
       "    </tr>\n",
       "    <tr>\n",
       "      <th>03-01-2020</th>\n",
       "      <td>-0.123737</td>\n",
       "      <td>-0.112190</td>\n",
       "      <td>-0.451162</td>\n",
       "      <td>-0.241793</td>\n",
       "      <td>-0.001205</td>\n",
       "    </tr>\n",
       "    <tr>\n",
       "      <th>06-01-2020</th>\n",
       "      <td>0.481437</td>\n",
       "      <td>0.169089</td>\n",
       "      <td>-0.865690</td>\n",
       "      <td>-0.060214</td>\n",
       "      <td>-0.056688</td>\n",
       "    </tr>\n",
       "    <tr>\n",
       "      <th>07-01-2020</th>\n",
       "      <td>-0.846615</td>\n",
       "      <td>-0.978156</td>\n",
       "      <td>10.721087</td>\n",
       "      <td>-0.486102</td>\n",
       "      <td>0.072232</td>\n",
       "    </tr>\n",
       "    <tr>\n",
       "      <th>08-01-2020</th>\n",
       "      <td>7.931057</td>\n",
       "      <td>42.030717</td>\n",
       "      <td>0.175348</td>\n",
       "      <td>2.029164</td>\n",
       "      <td>-0.019868</td>\n",
       "    </tr>\n",
       "  </tbody>\n",
       "</table>\n",
       "</div>\n",
       "    <div class=\"colab-df-buttons\">\n",
       "\n",
       "  <div class=\"colab-df-container\">\n",
       "    <button class=\"colab-df-convert\" onclick=\"convertToInteractive('df-52578153-15f5-480e-8584-e072b71867e0')\"\n",
       "            title=\"Convert this dataframe to an interactive table.\"\n",
       "            style=\"display:none;\">\n",
       "\n",
       "  <svg xmlns=\"http://www.w3.org/2000/svg\" height=\"24px\" viewBox=\"0 -960 960 960\">\n",
       "    <path d=\"M120-120v-720h720v720H120Zm60-500h600v-160H180v160Zm220 220h160v-160H400v160Zm0 220h160v-160H400v160ZM180-400h160v-160H180v160Zm440 0h160v-160H620v160ZM180-180h160v-160H180v160Zm440 0h160v-160H620v160Z\"/>\n",
       "  </svg>\n",
       "    </button>\n",
       "\n",
       "  <style>\n",
       "    .colab-df-container {\n",
       "      display:flex;\n",
       "      gap: 12px;\n",
       "    }\n",
       "\n",
       "    .colab-df-convert {\n",
       "      background-color: #E8F0FE;\n",
       "      border: none;\n",
       "      border-radius: 50%;\n",
       "      cursor: pointer;\n",
       "      display: none;\n",
       "      fill: #1967D2;\n",
       "      height: 32px;\n",
       "      padding: 0 0 0 0;\n",
       "      width: 32px;\n",
       "    }\n",
       "\n",
       "    .colab-df-convert:hover {\n",
       "      background-color: #E2EBFA;\n",
       "      box-shadow: 0px 1px 2px rgba(60, 64, 67, 0.3), 0px 1px 3px 1px rgba(60, 64, 67, 0.15);\n",
       "      fill: #174EA6;\n",
       "    }\n",
       "\n",
       "    .colab-df-buttons div {\n",
       "      margin-bottom: 4px;\n",
       "    }\n",
       "\n",
       "    [theme=dark] .colab-df-convert {\n",
       "      background-color: #3B4455;\n",
       "      fill: #D2E3FC;\n",
       "    }\n",
       "\n",
       "    [theme=dark] .colab-df-convert:hover {\n",
       "      background-color: #434B5C;\n",
       "      box-shadow: 0px 1px 3px 1px rgba(0, 0, 0, 0.15);\n",
       "      filter: drop-shadow(0px 1px 2px rgba(0, 0, 0, 0.3));\n",
       "      fill: #FFFFFF;\n",
       "    }\n",
       "  </style>\n",
       "\n",
       "    <script>\n",
       "      const buttonEl =\n",
       "        document.querySelector('#df-52578153-15f5-480e-8584-e072b71867e0 button.colab-df-convert');\n",
       "      buttonEl.style.display =\n",
       "        google.colab.kernel.accessAllowed ? 'block' : 'none';\n",
       "\n",
       "      async function convertToInteractive(key) {\n",
       "        const element = document.querySelector('#df-52578153-15f5-480e-8584-e072b71867e0');\n",
       "        const dataTable =\n",
       "          await google.colab.kernel.invokeFunction('convertToInteractive',\n",
       "                                                    [key], {});\n",
       "        if (!dataTable) return;\n",
       "\n",
       "        const docLinkHtml = 'Like what you see? Visit the ' +\n",
       "          '<a target=\"_blank\" href=https://colab.research.google.com/notebooks/data_table.ipynb>data table notebook</a>'\n",
       "          + ' to learn more about interactive tables.';\n",
       "        element.innerHTML = '';\n",
       "        dataTable['output_type'] = 'display_data';\n",
       "        await google.colab.output.renderOutput(dataTable, element);\n",
       "        const docLink = document.createElement('div');\n",
       "        docLink.innerHTML = docLinkHtml;\n",
       "        element.appendChild(docLink);\n",
       "      }\n",
       "    </script>\n",
       "  </div>\n",
       "\n",
       "\n",
       "<div id=\"df-476c65f8-ff3c-41b2-bbd6-a53d61d50527\">\n",
       "  <button class=\"colab-df-quickchart\" onclick=\"quickchart('df-476c65f8-ff3c-41b2-bbd6-a53d61d50527')\"\n",
       "            title=\"Suggest charts\"\n",
       "            style=\"display:none;\">\n",
       "\n",
       "<svg xmlns=\"http://www.w3.org/2000/svg\" height=\"24px\"viewBox=\"0 0 24 24\"\n",
       "     width=\"24px\">\n",
       "    <g>\n",
       "        <path d=\"M19 3H5c-1.1 0-2 .9-2 2v14c0 1.1.9 2 2 2h14c1.1 0 2-.9 2-2V5c0-1.1-.9-2-2-2zM9 17H7v-7h2v7zm4 0h-2V7h2v10zm4 0h-2v-4h2v4z\"/>\n",
       "    </g>\n",
       "</svg>\n",
       "  </button>\n",
       "\n",
       "<style>\n",
       "  .colab-df-quickchart {\n",
       "      --bg-color: #E8F0FE;\n",
       "      --fill-color: #1967D2;\n",
       "      --hover-bg-color: #E2EBFA;\n",
       "      --hover-fill-color: #174EA6;\n",
       "      --disabled-fill-color: #AAA;\n",
       "      --disabled-bg-color: #DDD;\n",
       "  }\n",
       "\n",
       "  [theme=dark] .colab-df-quickchart {\n",
       "      --bg-color: #3B4455;\n",
       "      --fill-color: #D2E3FC;\n",
       "      --hover-bg-color: #434B5C;\n",
       "      --hover-fill-color: #FFFFFF;\n",
       "      --disabled-bg-color: #3B4455;\n",
       "      --disabled-fill-color: #666;\n",
       "  }\n",
       "\n",
       "  .colab-df-quickchart {\n",
       "    background-color: var(--bg-color);\n",
       "    border: none;\n",
       "    border-radius: 50%;\n",
       "    cursor: pointer;\n",
       "    display: none;\n",
       "    fill: var(--fill-color);\n",
       "    height: 32px;\n",
       "    padding: 0;\n",
       "    width: 32px;\n",
       "  }\n",
       "\n",
       "  .colab-df-quickchart:hover {\n",
       "    background-color: var(--hover-bg-color);\n",
       "    box-shadow: 0 1px 2px rgba(60, 64, 67, 0.3), 0 1px 3px 1px rgba(60, 64, 67, 0.15);\n",
       "    fill: var(--button-hover-fill-color);\n",
       "  }\n",
       "\n",
       "  .colab-df-quickchart-complete:disabled,\n",
       "  .colab-df-quickchart-complete:disabled:hover {\n",
       "    background-color: var(--disabled-bg-color);\n",
       "    fill: var(--disabled-fill-color);\n",
       "    box-shadow: none;\n",
       "  }\n",
       "\n",
       "  .colab-df-spinner {\n",
       "    border: 2px solid var(--fill-color);\n",
       "    border-color: transparent;\n",
       "    border-bottom-color: var(--fill-color);\n",
       "    animation:\n",
       "      spin 1s steps(1) infinite;\n",
       "  }\n",
       "\n",
       "  @keyframes spin {\n",
       "    0% {\n",
       "      border-color: transparent;\n",
       "      border-bottom-color: var(--fill-color);\n",
       "      border-left-color: var(--fill-color);\n",
       "    }\n",
       "    20% {\n",
       "      border-color: transparent;\n",
       "      border-left-color: var(--fill-color);\n",
       "      border-top-color: var(--fill-color);\n",
       "    }\n",
       "    30% {\n",
       "      border-color: transparent;\n",
       "      border-left-color: var(--fill-color);\n",
       "      border-top-color: var(--fill-color);\n",
       "      border-right-color: var(--fill-color);\n",
       "    }\n",
       "    40% {\n",
       "      border-color: transparent;\n",
       "      border-right-color: var(--fill-color);\n",
       "      border-top-color: var(--fill-color);\n",
       "    }\n",
       "    60% {\n",
       "      border-color: transparent;\n",
       "      border-right-color: var(--fill-color);\n",
       "    }\n",
       "    80% {\n",
       "      border-color: transparent;\n",
       "      border-right-color: var(--fill-color);\n",
       "      border-bottom-color: var(--fill-color);\n",
       "    }\n",
       "    90% {\n",
       "      border-color: transparent;\n",
       "      border-bottom-color: var(--fill-color);\n",
       "    }\n",
       "  }\n",
       "</style>\n",
       "\n",
       "  <script>\n",
       "    async function quickchart(key) {\n",
       "      const quickchartButtonEl =\n",
       "        document.querySelector('#' + key + ' button');\n",
       "      quickchartButtonEl.disabled = true;  // To prevent multiple clicks.\n",
       "      quickchartButtonEl.classList.add('colab-df-spinner');\n",
       "      try {\n",
       "        const charts = await google.colab.kernel.invokeFunction(\n",
       "            'suggestCharts', [key], {});\n",
       "      } catch (error) {\n",
       "        console.error('Error during call to suggestCharts:', error);\n",
       "      }\n",
       "      quickchartButtonEl.classList.remove('colab-df-spinner');\n",
       "      quickchartButtonEl.classList.add('colab-df-quickchart-complete');\n",
       "    }\n",
       "    (() => {\n",
       "      let quickchartButtonEl =\n",
       "        document.querySelector('#df-476c65f8-ff3c-41b2-bbd6-a53d61d50527 button');\n",
       "      quickchartButtonEl.style.display =\n",
       "        google.colab.kernel.accessAllowed ? 'block' : 'none';\n",
       "    })();\n",
       "  </script>\n",
       "</div>\n",
       "\n",
       "    </div>\n",
       "  </div>\n"
      ],
      "text/plain": [
       "             Asset_1    Asset_2    Asset_3  Portfolio_Value  Market_Index\n",
       "timestamp                                                                \n",
       "02-01-2020 -0.196916   1.104952   0.491983         0.509525     -0.008552\n",
       "03-01-2020 -0.123737  -0.112190  -0.451162        -0.241793     -0.001205\n",
       "06-01-2020  0.481437   0.169089  -0.865690        -0.060214     -0.056688\n",
       "07-01-2020 -0.846615  -0.978156  10.721087        -0.486102      0.072232\n",
       "08-01-2020  7.931057  42.030717   0.175348         2.029164     -0.019868"
      ]
     },
     "execution_count": 2,
     "metadata": {},
     "output_type": "execute_result"
    }
   ],
   "source": [
    "returns = df.pct_change().dropna()\n",
    "returns.head()\n"
   ]
  },
  {
   "cell_type": "markdown",
   "metadata": {
    "id": "7MLPZBswwuTL"
   },
   "source": [
    "# Define Fitness Function"
   ]
  },
  {
   "cell_type": "code",
   "execution_count": null,
   "metadata": {
    "id": "ADnAYwDKFdu7"
   },
   "outputs": [],
   "source": [
    "import numpy as np\n",
    "\n",
    "def fitness_function(weights, returns):\n",
    "    portfolio_return = np.sum(returns.mean() * weights) * 252\n",
    "    portfolio_stddev = np.sqrt(np.dot(weights.T, np.dot(returns.cov() * 252, weights)))\n",
    "    sharpe_ratio = portfolio_return / portfolio_stddev\n",
    "    return sharpe_ratio\n"
   ]
  },
  {
   "cell_type": "markdown",
   "metadata": {
    "id": "tN7T8oixw0ZL"
   },
   "source": [
    "# Initial Population"
   ]
  },
  {
   "cell_type": "code",
   "execution_count": null,
   "metadata": {
    "id": "newRizz2FhTL"
   },
   "outputs": [],
   "source": [
    "def initialize_population(pop_size, num_assets):\n",
    "    population = []\n",
    "    for _ in range(pop_size):\n",
    "        weights = np.random.random(num_assets)\n",
    "        weights /= np.sum(weights)\n",
    "        population.append(weights)\n",
    "    return np.array(population)\n",
    "\n",
    "pop_size = 100\n",
    "num_assets = len(df.columns)\n",
    "population = initialize_population(pop_size, num_assets)\n"
   ]
  },
  {
   "cell_type": "markdown",
   "metadata": {
    "id": "xfwajDq9w4AH"
   },
   "source": [
    "# Selection"
   ]
  },
  {
   "cell_type": "code",
   "execution_count": null,
   "metadata": {
    "id": "JVhMT8DbFjMo"
   },
   "outputs": [],
   "source": [
    "def selection(population, fitness_scores, num_parents):\n",
    "    parents = np.empty((num_parents, population.shape[1]))\n",
    "    for i in range(num_parents):\n",
    "        max_fitness_idx = np.where(fitness_scores == np.max(fitness_scores))\n",
    "        max_fitness_idx = max_fitness_idx[0][0]\n",
    "        parents[i, :] = population[max_fitness_idx, :]\n",
    "        fitness_scores[max_fitness_idx] = -999999\n",
    "    return parents\n",
    "\n",
    "num_parents = 20\n",
    "fitness_scores = np.array([fitness_function(weights, returns) for weights in population])\n",
    "parents = selection(population, fitness_scores, num_parents)\n"
   ]
  },
  {
   "cell_type": "markdown",
   "metadata": {
    "id": "jqEhbITsw9t1"
   },
   "source": [
    "# Crossover"
   ]
  },
  {
   "cell_type": "code",
   "execution_count": null,
   "metadata": {
    "id": "1kGod21wFldT"
   },
   "outputs": [],
   "source": [
    "def crossover(parents, offspring_size):\n",
    "    offspring = np.empty(offspring_size)\n",
    "    crossover_point = np.uint8(offspring_size[1]/2)\n",
    "\n",
    "    for k in range(offspring_size[0]):\n",
    "        parent1_idx = k % parents.shape[0]\n",
    "        parent2_idx = (k + 1) % parents.shape[0]\n",
    "        offspring[k, 0:crossover_point] = parents[parent1_idx, 0:crossover_point]\n",
    "        offspring[k, crossover_point:] = parents[parent2_idx, crossover_point:]\n",
    "    return offspring\n",
    "\n",
    "offspring_size = (pop_size - parents.shape[0], num_assets)\n",
    "offspring = crossover(parents, offspring_size)\n"
   ]
  },
  {
   "cell_type": "markdown",
   "metadata": {
    "id": "AjnCQOIrxBbe"
   },
   "source": [
    "# Mutation"
   ]
  },
  {
   "cell_type": "code",
   "execution_count": null,
   "metadata": {
    "id": "fCZuohWDFnyT"
   },
   "outputs": [],
   "source": [
    "def mutation(offspring, mutation_rate=0.01):\n",
    "    for idx in range(offspring.shape[0]):\n",
    "        for gene_idx in range(offspring.shape[1]):\n",
    "            if np.random.rand() < mutation_rate:\n",
    "                random_value = np.random.random()\n",
    "                offspring[idx, gene_idx] = offspring[idx, gene_idx] + random_value\n",
    "                offspring[idx, gene_idx] /= np.sum(offspring[idx, :])\n",
    "    return offspring\n",
    "\n",
    "mutated_offspring = mutation(offspring)\n"
   ]
  },
  {
   "cell_type": "markdown",
   "metadata": {
    "id": "xEDvzIMbxGTc"
   },
   "source": [
    "# Termination"
   ]
  },
  {
   "cell_type": "code",
   "execution_count": null,
   "metadata": {
    "id": "WzsJq1NSFpf3"
   },
   "outputs": [],
   "source": [
    "def mutation(offspring, mutation_rate=0.01):\n",
    "    for idx in range(offspring.shape[0]):\n",
    "        for gene_idx in range(offspring.shape[1]):\n",
    "            if np.random.rand() < mutation_rate:\n",
    "                random_value = np.random.random()\n",
    "                offspring[idx, gene_idx] = offspring[idx, gene_idx] + random_value\n",
    "                offspring[idx, gene_idx] /= np.sum(offspring[idx, :])\n",
    "    return offspring\n",
    "\n",
    "mutated_offspring = mutation(offspring)\n"
   ]
  },
  {
   "cell_type": "markdown",
   "metadata": {
    "id": "s-2eE9IWxIxw"
   },
   "source": []
  },
  {
   "cell_type": "code",
   "execution_count": null,
   "metadata": {
    "colab": {
     "base_uri": "https://localhost:8080/"
    },
    "id": "rkW-7vLYFrRq",
    "outputId": "45fbe294-405e-491d-9b41-312512d0b006"
   },
   "outputs": [
    {
     "name": "stdout",
     "output_type": "stream",
     "text": [
      "Generation 0: Best Fitness = 1.417253614680323\n",
      "Generation 1: Best Fitness = 1.8779466185434148\n",
      "Generation 2: Best Fitness = 2.0430037580572336\n",
      "Generation 3: Best Fitness = 2.0920158355234864\n",
      "Generation 4: Best Fitness = 2.4902477236462275\n",
      "Generation 5: Best Fitness = 2.4902477236462275\n",
      "Generation 6: Best Fitness = 2.4902477236462275\n",
      "Generation 7: Best Fitness = 2.521225040481554\n",
      "Generation 8: Best Fitness = 2.521225040481554\n",
      "Generation 9: Best Fitness = 2.5409096684344568\n",
      "Generation 10: Best Fitness = 2.5409096684344568\n",
      "Generation 11: Best Fitness = 2.5414701981903742\n",
      "Generation 12: Best Fitness = 2.5414701981903742\n",
      "Generation 13: Best Fitness = 2.575155889229864\n",
      "Generation 14: Best Fitness = 2.575155889229864\n",
      "Generation 15: Best Fitness = 2.575155889229864\n",
      "Generation 16: Best Fitness = 2.5758970013396527\n",
      "Generation 17: Best Fitness = 2.5758970013396527\n",
      "Generation 18: Best Fitness = 2.5759063088633067\n",
      "Generation 19: Best Fitness = 2.5760569272179454\n",
      "Generation 20: Best Fitness = 2.5760569272179454\n",
      "Generation 21: Best Fitness = 2.580023239229417\n",
      "Generation 22: Best Fitness = 2.580023239229417\n",
      "Generation 23: Best Fitness = 2.5861124541129388\n",
      "Generation 24: Best Fitness = 2.5861124541129388\n",
      "Generation 25: Best Fitness = 2.586185095785435\n",
      "Generation 26: Best Fitness = 2.586185095785435\n",
      "Generation 27: Best Fitness = 2.586185095785435\n",
      "Generation 28: Best Fitness = 2.586185095785435\n",
      "Generation 29: Best Fitness = 2.586185095785435\n",
      "Generation 30: Best Fitness = 2.586185095785435\n",
      "Generation 31: Best Fitness = 2.586185095785435\n",
      "Generation 32: Best Fitness = 2.586185095785435\n",
      "Generation 33: Best Fitness = 2.586185095785435\n",
      "Generation 34: Best Fitness = 2.586185095785435\n",
      "Generation 35: Best Fitness = 2.586185095785435\n",
      "Generation 36: Best Fitness = 2.586185095785435\n",
      "Generation 37: Best Fitness = 2.586185095785435\n",
      "Generation 38: Best Fitness = 2.588992264842197\n",
      "Generation 39: Best Fitness = 2.596323300370395\n",
      "Generation 40: Best Fitness = 2.596323300370395\n",
      "Generation 41: Best Fitness = 2.596323300370395\n",
      "Generation 42: Best Fitness = 2.596323300370395\n",
      "Generation 43: Best Fitness = 2.596323300370395\n",
      "Generation 44: Best Fitness = 2.596323300370395\n",
      "Generation 45: Best Fitness = 2.596323300370395\n",
      "Generation 46: Best Fitness = 2.596323300370395\n",
      "Generation 47: Best Fitness = 2.596331571848502\n",
      "Generation 48: Best Fitness = 2.596331571848502\n",
      "Generation 49: Best Fitness = 2.596331571848502\n",
      "Generation 50: Best Fitness = 2.596331571848502\n",
      "Generation 51: Best Fitness = 2.596331571848502\n",
      "Generation 52: Best Fitness = 2.596331571848502\n",
      "Generation 53: Best Fitness = 2.596331571848502\n",
      "Generation 54: Best Fitness = 2.596331571848502\n",
      "Generation 55: Best Fitness = 2.596331571848502\n",
      "Generation 56: Best Fitness = 2.596331571848502\n",
      "Generation 57: Best Fitness = 2.596331571848502\n",
      "Generation 58: Best Fitness = 2.596331571848502\n",
      "Generation 59: Best Fitness = 2.596331571848502\n",
      "Generation 60: Best Fitness = 2.596331571848502\n",
      "Generation 61: Best Fitness = 2.596331571848502\n",
      "Generation 62: Best Fitness = 2.596331571848502\n",
      "Generation 63: Best Fitness = 2.596331571848502\n",
      "Generation 64: Best Fitness = 2.596331571848502\n",
      "Generation 65: Best Fitness = 2.596331571848502\n",
      "Generation 66: Best Fitness = 2.596331571848502\n",
      "Generation 67: Best Fitness = 2.5963368694291065\n",
      "Generation 68: Best Fitness = 2.5963368694291065\n",
      "Generation 69: Best Fitness = 2.5963368694291065\n",
      "Generation 70: Best Fitness = 2.5963368694291065\n",
      "Generation 71: Best Fitness = 2.5963368694291065\n",
      "Generation 72: Best Fitness = 2.5963368694291065\n",
      "Generation 73: Best Fitness = 2.5963368694291065\n",
      "Generation 74: Best Fitness = 2.5963368694291065\n",
      "Generation 75: Best Fitness = 2.5963368694291065\n",
      "Generation 76: Best Fitness = 2.5963368694291065\n",
      "Generation 77: Best Fitness = 2.5963368694291065\n",
      "Generation 78: Best Fitness = 2.5963368694291065\n",
      "Generation 79: Best Fitness = 2.5963498076018925\n",
      "Generation 80: Best Fitness = 2.5963498076018925\n",
      "Generation 81: Best Fitness = 2.5963498076018925\n",
      "Generation 82: Best Fitness = 2.5963498076018925\n",
      "Generation 83: Best Fitness = 2.5963498076018925\n",
      "Generation 84: Best Fitness = 2.5963498076018925\n",
      "Generation 85: Best Fitness = 2.5963498076018925\n",
      "Generation 86: Best Fitness = 2.5963498076018925\n",
      "Generation 87: Best Fitness = 2.5963498076018925\n",
      "Generation 88: Best Fitness = 2.5963498076018925\n",
      "Generation 89: Best Fitness = 2.5963498076018925\n",
      "Generation 90: Best Fitness = 2.5963498076018925\n",
      "Generation 91: Best Fitness = 2.5963498076018925\n",
      "Generation 92: Best Fitness = 2.5963498076018925\n",
      "Generation 93: Best Fitness = 2.5963498076018925\n",
      "Generation 94: Best Fitness = 2.5963498076018925\n",
      "Generation 95: Best Fitness = 2.5963498076018925\n",
      "Generation 96: Best Fitness = 2.5963498076018925\n",
      "Generation 97: Best Fitness = 2.5963498076018925\n",
      "Generation 98: Best Fitness = 2.5963498076018925\n",
      "Generation 99: Best Fitness = 2.5963502910456278\n"
     ]
    }
   ],
   "source": [
    "def genetic_algorithm(returns, num_generations, pop_size, num_parents, mutation_rate):\n",
    "    num_assets = returns.shape[1]\n",
    "    population = initialize_population(pop_size, num_assets)\n",
    "    for generation in range(num_generations):\n",
    "        fitness_scores = np.array([fitness_function(weights, returns) for weights in population])\n",
    "        parents = selection(population, fitness_scores, num_parents)\n",
    "        offspring_size = (pop_size - parents.shape[0], num_assets)\n",
    "        offspring = crossover(parents, offspring_size)\n",
    "        offspring = mutation(offspring, mutation_rate)\n",
    "        population[0:parents.shape[0], :] = parents\n",
    "        population[parents.shape[0]:, :] = offspring\n",
    "        best_fitness = np.max(fitness_scores)\n",
    "        print(f\"Generation {generation}: Best Fitness = {best_fitness}\")\n",
    "    return population, fitness_scores\n",
    "\n",
    "num_generations = 100\n",
    "population, fitness_scores = genetic_algorithm(returns, num_generations, pop_size, num_parents, mutation_rate=0.01)\n"
   ]
  },
  {
   "cell_type": "markdown",
   "metadata": {
    "id": "YFQ1uXj5xNuu"
   },
   "source": [
    "# Evaluate Best portfolio"
   ]
  },
  {
   "cell_type": "code",
   "execution_count": null,
   "metadata": {
    "colab": {
     "base_uri": "https://localhost:8080/"
    },
    "id": "6vLI0G12Fxfc",
    "outputId": "061304f9-ef21-447f-87c7-f1782a0e732f"
   },
   "outputs": [
    {
     "name": "stdout",
     "output_type": "stream",
     "text": [
      "Best Portfolio Weights: [0.04189262 0.13620183 0.72651027 0.56140873 0.49904594]\n",
      "Expected Annual Return: 737.635018426684\n",
      "Annual Volatility: 284.1045836421465\n",
      "Sharpe Ratio: 2.5963502910456278\n"
     ]
    }
   ],
   "source": [
    "best_idx = np.argmax(fitness_scores)\n",
    "best_portfolio = population[best_idx, :]\n",
    "best_portfolio_return = np.sum(returns.mean() * best_portfolio) * 252\n",
    "best_portfolio_stddev = np.sqrt(np.dot(best_portfolio.T, np.dot(returns.cov() * 252, best_portfolio)))\n",
    "best_portfolio_sharpe = best_portfolio_return / best_portfolio_stddev\n",
    "\n",
    "print(f\"Best Portfolio Weights: {best_portfolio}\")\n",
    "print(f\"Expected Annual Return: {best_portfolio_return}\")\n",
    "print(f\"Annual Volatility: {best_portfolio_stddev}\")\n",
    "print(f\"Sharpe Ratio: {best_portfolio_sharpe}\")\n"
   ]
  },
  {
   "cell_type": "markdown",
   "metadata": {
    "id": "tybZDt2YxUIU"
   },
   "source": []
  }
 ],
 "metadata": {
  "colab": {
   "provenance": []
  },
  "kernelspec": {
   "display_name": "Python 3",
   "name": "python3"
  },
  "language_info": {
   "name": "python"
  }
 },
 "nbformat": 4,
 "nbformat_minor": 4
}
