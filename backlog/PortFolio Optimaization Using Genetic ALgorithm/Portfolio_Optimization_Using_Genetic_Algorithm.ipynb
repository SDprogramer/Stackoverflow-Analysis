{
 "cells": [
  {
   "cell_type": "markdown",
   "metadata": {
    "id": "FgneRLb5xWON"
   },
   "source": [
    "# **Portfolio Optimization Using Genetic Algorithm**"
   ]
  },
  {
   "cell_type": "markdown",
   "metadata": {
    "id": "HTGK4uLYMf5A"
   },
   "source": [
    "Load the data"
   ]
  },
  {
   "cell_type": "code",
   "execution_count": 14,
   "metadata": {
    "colab": {
     "base_uri": "https://localhost:8080/",
     "height": 324
    },
    "id": "CCgHhKp6FHbT",
    "outputId": "f358ffad-1db0-4203-ee75-37ce1f5c1234"
   },
   "outputs": [
    {
     "data": {
      "text/html": [
       "<div>\n",
       "<style scoped>\n",
       "    .dataframe tbody tr th:only-of-type {\n",
       "        vertical-align: middle;\n",
       "    }\n",
       "\n",
       "    .dataframe tbody tr th {\n",
       "        vertical-align: top;\n",
       "    }\n",
       "\n",
       "    .dataframe thead th {\n",
       "        text-align: right;\n",
       "    }\n",
       "</style>\n",
       "<table border=\"1\" class=\"dataframe\">\n",
       "  <thead>\n",
       "    <tr style=\"text-align: right;\">\n",
       "      <th></th>\n",
       "      <th>Asset_1</th>\n",
       "      <th>Asset_2</th>\n",
       "      <th>Asset_3</th>\n",
       "      <th>Portfolio_Value</th>\n",
       "      <th>Market_Index</th>\n",
       "    </tr>\n",
       "    <tr>\n",
       "      <th>timestamp</th>\n",
       "      <th></th>\n",
       "      <th></th>\n",
       "      <th></th>\n",
       "      <th></th>\n",
       "      <th></th>\n",
       "    </tr>\n",
       "  </thead>\n",
       "  <tbody>\n",
       "    <tr>\n",
       "      <th>01-01-2020</th>\n",
       "      <td>544.883183</td>\n",
       "      <td>423.654799</td>\n",
       "      <td>645.894113</td>\n",
       "      <td>525.051834</td>\n",
       "      <td>1034.932512</td>\n",
       "    </tr>\n",
       "    <tr>\n",
       "      <th>02-01-2020</th>\n",
       "      <td>437.587211</td>\n",
       "      <td>891.773001</td>\n",
       "      <td>963.662760</td>\n",
       "      <td>792.579124</td>\n",
       "      <td>1026.081261</td>\n",
       "    </tr>\n",
       "    <tr>\n",
       "      <th>03-01-2020</th>\n",
       "      <td>383.441519</td>\n",
       "      <td>791.725038</td>\n",
       "      <td>528.894920</td>\n",
       "      <td>600.939199</td>\n",
       "      <td>1024.844657</td>\n",
       "    </tr>\n",
       "    <tr>\n",
       "      <th>06-01-2020</th>\n",
       "      <td>568.044561</td>\n",
       "      <td>925.596638</td>\n",
       "      <td>71.036058</td>\n",
       "      <td>564.754139</td>\n",
       "      <td>966.747919</td>\n",
       "    </tr>\n",
       "    <tr>\n",
       "      <th>07-01-2020</th>\n",
       "      <td>87.129300</td>\n",
       "      <td>20.218397</td>\n",
       "      <td>832.619845</td>\n",
       "      <td>290.226071</td>\n",
       "      <td>1036.577579</td>\n",
       "    </tr>\n",
       "  </tbody>\n",
       "</table>\n",
       "</div>"
      ],
      "text/plain": [
       "               Asset_1     Asset_2     Asset_3  Portfolio_Value  Market_Index\n",
       "timestamp                                                                    \n",
       "01-01-2020  544.883183  423.654799  645.894113       525.051834   1034.932512\n",
       "02-01-2020  437.587211  891.773001  963.662760       792.579124   1026.081261\n",
       "03-01-2020  383.441519  791.725038  528.894920       600.939199   1024.844657\n",
       "06-01-2020  568.044561  925.596638   71.036058       564.754139    966.747919\n",
       "07-01-2020   87.129300   20.218397  832.619845       290.226071   1036.577579"
      ]
     },
     "execution_count": 14,
     "metadata": {},
     "output_type": "execute_result"
    }
   ],
   "source": [
    "import pandas as pd\n",
    "\n",
    "# Load data\n",
    "df = pd.read_csv('portfolio_data.csv', index_col=0, parse_dates=True)\n",
    "df.head()\n"
   ]
  },
  {
   "cell_type": "code",
   "execution_count": null,
   "metadata": {
    "id": "SzuX4BaAMi1X"
   },
   "outputs": [],
   "source": []
  },
  {
   "cell_type": "markdown",
   "metadata": {
    "id": "otw_6mVnwCrn"
   },
   "source": [
    "# **Calculate Return**"
   ]
  },
  {
   "cell_type": "code",
   "execution_count": 18,
   "metadata": {
    "colab": {
     "base_uri": "https://localhost:8080/",
     "height": 237
    },
    "id": "Pm3NBpSVFbEj",
    "outputId": "73fa7e6b-70d1-4b18-bbe0-393da1eaedff"
   },
   "outputs": [
    {
     "data": {
      "text/html": [
       "<div>\n",
       "<style scoped>\n",
       "    .dataframe tbody tr th:only-of-type {\n",
       "        vertical-align: middle;\n",
       "    }\n",
       "\n",
       "    .dataframe tbody tr th {\n",
       "        vertical-align: top;\n",
       "    }\n",
       "\n",
       "    .dataframe thead th {\n",
       "        text-align: right;\n",
       "    }\n",
       "</style>\n",
       "<table border=\"1\" class=\"dataframe\">\n",
       "  <thead>\n",
       "    <tr style=\"text-align: right;\">\n",
       "      <th></th>\n",
       "      <th>Asset_1</th>\n",
       "      <th>Asset_2</th>\n",
       "      <th>Asset_3</th>\n",
       "      <th>Portfolio_Value</th>\n",
       "      <th>Market_Index</th>\n",
       "    </tr>\n",
       "    <tr>\n",
       "      <th>timestamp</th>\n",
       "      <th></th>\n",
       "      <th></th>\n",
       "      <th></th>\n",
       "      <th></th>\n",
       "      <th></th>\n",
       "    </tr>\n",
       "  </thead>\n",
       "  <tbody>\n",
       "    <tr>\n",
       "      <th>02-01-2020</th>\n",
       "      <td>-0.196916</td>\n",
       "      <td>1.104952</td>\n",
       "      <td>0.491983</td>\n",
       "      <td>0.509525</td>\n",
       "      <td>-0.008552</td>\n",
       "    </tr>\n",
       "    <tr>\n",
       "      <th>03-01-2020</th>\n",
       "      <td>-0.123737</td>\n",
       "      <td>-0.112190</td>\n",
       "      <td>-0.451162</td>\n",
       "      <td>-0.241793</td>\n",
       "      <td>-0.001205</td>\n",
       "    </tr>\n",
       "    <tr>\n",
       "      <th>06-01-2020</th>\n",
       "      <td>0.481437</td>\n",
       "      <td>0.169089</td>\n",
       "      <td>-0.865690</td>\n",
       "      <td>-0.060214</td>\n",
       "      <td>-0.056688</td>\n",
       "    </tr>\n",
       "    <tr>\n",
       "      <th>07-01-2020</th>\n",
       "      <td>-0.846615</td>\n",
       "      <td>-0.978156</td>\n",
       "      <td>10.721087</td>\n",
       "      <td>-0.486102</td>\n",
       "      <td>0.072232</td>\n",
       "    </tr>\n",
       "    <tr>\n",
       "      <th>08-01-2020</th>\n",
       "      <td>7.931057</td>\n",
       "      <td>42.030717</td>\n",
       "      <td>0.175348</td>\n",
       "      <td>2.029164</td>\n",
       "      <td>-0.019868</td>\n",
       "    </tr>\n",
       "  </tbody>\n",
       "</table>\n",
       "</div>"
      ],
      "text/plain": [
       "             Asset_1    Asset_2    Asset_3  Portfolio_Value  Market_Index\n",
       "timestamp                                                                \n",
       "02-01-2020 -0.196916   1.104952   0.491983         0.509525     -0.008552\n",
       "03-01-2020 -0.123737  -0.112190  -0.451162        -0.241793     -0.001205\n",
       "06-01-2020  0.481437   0.169089  -0.865690        -0.060214     -0.056688\n",
       "07-01-2020 -0.846615  -0.978156  10.721087        -0.486102      0.072232\n",
       "08-01-2020  7.931057  42.030717   0.175348         2.029164     -0.019868"
      ]
     },
     "execution_count": 18,
     "metadata": {},
     "output_type": "execute_result"
    }
   ],
   "source": [
    "returns = df.pct_change().dropna()\n",
    "returns.head()\n"
   ]
  },
  {
   "cell_type": "markdown",
   "metadata": {
    "id": "7MLPZBswwuTL"
   },
   "source": [
    "# Define Fitness Function"
   ]
  },
  {
   "cell_type": "code",
   "execution_count": 21,
   "metadata": {
    "id": "ADnAYwDKFdu7"
   },
   "outputs": [],
   "source": [
    "import numpy as np\n",
    "\n",
    "def fitness_function(weights, returns):\n",
    "    portfolio_return = np.sum(returns.mean() * weights) * 252\n",
    "    portfolio_stddev = np.sqrt(np.dot(weights.T, np.dot(returns.cov() * 252, weights)))\n",
    "    sharpe_ratio = portfolio_return / portfolio_stddev\n",
    "    return sharpe_ratio\n"
   ]
  },
  {
   "cell_type": "markdown",
   "metadata": {
    "id": "tN7T8oixw0ZL"
   },
   "source": [
    "# Initial Population"
   ]
  },
  {
   "cell_type": "code",
   "execution_count": 24,
   "metadata": {
    "id": "newRizz2FhTL"
   },
   "outputs": [],
   "source": [
    "def initialize_population(pop_size, num_assets):\n",
    "    population = []\n",
    "    for _ in range(pop_size):\n",
    "        weights = np.random.random(num_assets)\n",
    "        weights /= np.sum(weights)\n",
    "        population.append(weights)\n",
    "    return np.array(population)\n",
    "\n",
    "pop_size = 100\n",
    "num_assets = len(df.columns)\n",
    "population = initialize_population(pop_size, num_assets)\n"
   ]
  },
  {
   "cell_type": "markdown",
   "metadata": {
    "id": "xfwajDq9w4AH"
   },
   "source": [
    "# Selection"
   ]
  },
  {
   "cell_type": "code",
   "execution_count": 27,
   "metadata": {
    "id": "JVhMT8DbFjMo"
   },
   "outputs": [],
   "source": [
    "def selection(population, fitness_scores, num_parents):\n",
    "    parents = np.empty((num_parents, population.shape[1]))\n",
    "    for i in range(num_parents):\n",
    "        max_fitness_idx = np.where(fitness_scores == np.max(fitness_scores))\n",
    "        max_fitness_idx = max_fitness_idx[0][0]\n",
    "        parents[i, :] = population[max_fitness_idx, :]\n",
    "        fitness_scores[max_fitness_idx] = -999999\n",
    "    return parents\n",
    "\n",
    "num_parents = 20\n",
    "fitness_scores = np.array([fitness_function(weights, returns) for weights in population])\n",
    "parents = selection(population, fitness_scores, num_parents)\n"
   ]
  },
  {
   "cell_type": "markdown",
   "metadata": {
    "id": "jqEhbITsw9t1"
   },
   "source": [
    "# Crossover"
   ]
  },
  {
   "cell_type": "code",
   "execution_count": 30,
   "metadata": {
    "id": "1kGod21wFldT"
   },
   "outputs": [],
   "source": [
    "def crossover(parents, offspring_size):\n",
    "    offspring = np.empty(offspring_size)\n",
    "    crossover_point = np.uint8(offspring_size[1]/2)\n",
    "\n",
    "    for k in range(offspring_size[0]):\n",
    "        parent1_idx = k % parents.shape[0]\n",
    "        parent2_idx = (k + 1) % parents.shape[0]\n",
    "        offspring[k, 0:crossover_point] = parents[parent1_idx, 0:crossover_point]\n",
    "        offspring[k, crossover_point:] = parents[parent2_idx, crossover_point:]\n",
    "    return offspring\n",
    "\n",
    "offspring_size = (pop_size - parents.shape[0], num_assets)\n",
    "offspring = crossover(parents, offspring_size)\n"
   ]
  },
  {
   "cell_type": "markdown",
   "metadata": {
    "id": "AjnCQOIrxBbe"
   },
   "source": [
    "# Mutation"
   ]
  },
  {
   "cell_type": "code",
   "execution_count": 33,
   "metadata": {
    "id": "fCZuohWDFnyT"
   },
   "outputs": [],
   "source": [
    "def mutation(offspring, mutation_rate=0.01):\n",
    "    for idx in range(offspring.shape[0]):\n",
    "        for gene_idx in range(offspring.shape[1]):\n",
    "            if np.random.rand() < mutation_rate:\n",
    "                random_value = np.random.random()\n",
    "                offspring[idx, gene_idx] = offspring[idx, gene_idx] + random_value\n",
    "                offspring[idx, gene_idx] /= np.sum(offspring[idx, :])\n",
    "    return offspring\n",
    "\n",
    "mutated_offspring = mutation(offspring)\n"
   ]
  },
  {
   "cell_type": "markdown",
   "metadata": {
    "id": "xEDvzIMbxGTc"
   },
   "source": [
    "# Termination"
   ]
  },
  {
   "cell_type": "code",
   "execution_count": 36,
   "metadata": {
    "id": "WzsJq1NSFpf3"
   },
   "outputs": [],
   "source": [
    "def mutation(offspring, mutation_rate=0.01):\n",
    "    for idx in range(offspring.shape[0]):\n",
    "        for gene_idx in range(offspring.shape[1]):\n",
    "            if np.random.rand() < mutation_rate:\n",
    "                random_value = np.random.random()\n",
    "                offspring[idx, gene_idx] = offspring[idx, gene_idx] + random_value\n",
    "                offspring[idx, gene_idx] /= np.sum(offspring[idx, :])\n",
    "    return offspring\n",
    "\n",
    "mutated_offspring = mutation(offspring)\n"
   ]
  },
  {
   "cell_type": "markdown",
   "metadata": {
    "id": "s-2eE9IWxIxw"
   },
   "source": []
  },
  {
   "cell_type": "code",
   "execution_count": 39,
   "metadata": {
    "colab": {
     "base_uri": "https://localhost:8080/"
    },
    "id": "rkW-7vLYFrRq",
    "outputId": "45fbe294-405e-491d-9b41-312512d0b006"
   },
   "outputs": [
    {
     "name": "stdout",
     "output_type": "stream",
     "text": [
      "Generation 0: Best Fitness = 1.4762715381515883\n",
      "Generation 1: Best Fitness = 2.02523213483615\n",
      "Generation 2: Best Fitness = 2.447525052066359\n",
      "Generation 3: Best Fitness = 2.5968127611299243\n",
      "Generation 4: Best Fitness = 2.601141911178252\n",
      "Generation 5: Best Fitness = 2.601323996364056\n",
      "Generation 6: Best Fitness = 2.651556189371385\n",
      "Generation 7: Best Fitness = 2.651556189371385\n",
      "Generation 8: Best Fitness = 2.651871247334236\n",
      "Generation 9: Best Fitness = 2.651871247334236\n",
      "Generation 10: Best Fitness = 2.6585766530068415\n",
      "Generation 11: Best Fitness = 2.6706997052344295\n",
      "Generation 12: Best Fitness = 2.697812640265176\n",
      "Generation 13: Best Fitness = 2.697812640265176\n",
      "Generation 14: Best Fitness = 2.697812640265176\n",
      "Generation 15: Best Fitness = 2.6988428788994336\n",
      "Generation 16: Best Fitness = 2.6989832050307423\n",
      "Generation 17: Best Fitness = 2.6989832050307423\n",
      "Generation 18: Best Fitness = 2.6998114819174277\n",
      "Generation 19: Best Fitness = 2.7029987211167135\n",
      "Generation 20: Best Fitness = 2.7029987211167135\n",
      "Generation 21: Best Fitness = 2.7029987211167135\n",
      "Generation 22: Best Fitness = 2.7029987211167135\n",
      "Generation 23: Best Fitness = 2.7038430414694936\n",
      "Generation 24: Best Fitness = 2.703919023191884\n",
      "Generation 25: Best Fitness = 2.703919023191884\n",
      "Generation 26: Best Fitness = 2.703919023191884\n",
      "Generation 27: Best Fitness = 2.703947768620708\n",
      "Generation 28: Best Fitness = 2.703947768620708\n",
      "Generation 29: Best Fitness = 2.703947768620708\n",
      "Generation 30: Best Fitness = 2.7210426858453953\n",
      "Generation 31: Best Fitness = 2.7210426858453953\n",
      "Generation 32: Best Fitness = 2.7210426858453953\n",
      "Generation 33: Best Fitness = 2.7210426858453953\n",
      "Generation 34: Best Fitness = 2.7210426858453953\n",
      "Generation 35: Best Fitness = 2.721341020773319\n",
      "Generation 36: Best Fitness = 2.721341020773319\n",
      "Generation 37: Best Fitness = 2.721341020773319\n",
      "Generation 38: Best Fitness = 2.721341020773319\n",
      "Generation 39: Best Fitness = 2.721341020773319\n",
      "Generation 40: Best Fitness = 2.726566517461905\n",
      "Generation 41: Best Fitness = 2.726566517461905\n",
      "Generation 42: Best Fitness = 2.726566517461905\n",
      "Generation 43: Best Fitness = 2.726566517461905\n",
      "Generation 44: Best Fitness = 2.726566517461905\n",
      "Generation 45: Best Fitness = 2.726566517461905\n",
      "Generation 46: Best Fitness = 2.7286023649211115\n",
      "Generation 47: Best Fitness = 2.7286023649211115\n",
      "Generation 48: Best Fitness = 2.731539215384595\n",
      "Generation 49: Best Fitness = 2.731539215384595\n",
      "Generation 50: Best Fitness = 2.731539215384595\n",
      "Generation 51: Best Fitness = 2.731539215384595\n",
      "Generation 52: Best Fitness = 2.731668375416001\n",
      "Generation 53: Best Fitness = 2.731668375416001\n",
      "Generation 54: Best Fitness = 2.731668375416001\n",
      "Generation 55: Best Fitness = 2.731668375416001\n",
      "Generation 56: Best Fitness = 2.731668375416001\n",
      "Generation 57: Best Fitness = 2.731668375416001\n",
      "Generation 58: Best Fitness = 2.731668375416001\n",
      "Generation 59: Best Fitness = 2.731668375416001\n",
      "Generation 60: Best Fitness = 2.731668375416001\n",
      "Generation 61: Best Fitness = 2.731668375416001\n",
      "Generation 62: Best Fitness = 2.731668375416001\n",
      "Generation 63: Best Fitness = 2.731668375416001\n",
      "Generation 64: Best Fitness = 2.731668375416001\n",
      "Generation 65: Best Fitness = 2.731668375416001\n",
      "Generation 66: Best Fitness = 2.731668375416001\n",
      "Generation 67: Best Fitness = 2.731668375416001\n",
      "Generation 68: Best Fitness = 2.731668375416001\n",
      "Generation 69: Best Fitness = 2.731668375416001\n",
      "Generation 70: Best Fitness = 2.731668375416001\n",
      "Generation 71: Best Fitness = 2.731668375416001\n",
      "Generation 72: Best Fitness = 2.731668375416001\n",
      "Generation 73: Best Fitness = 2.731668375416001\n",
      "Generation 74: Best Fitness = 2.731668375416001\n",
      "Generation 75: Best Fitness = 2.731668375416001\n",
      "Generation 76: Best Fitness = 2.731668375416001\n",
      "Generation 77: Best Fitness = 2.731668375416001\n",
      "Generation 78: Best Fitness = 2.731668375416001\n",
      "Generation 79: Best Fitness = 2.731668375416001\n",
      "Generation 80: Best Fitness = 2.731668375416001\n",
      "Generation 81: Best Fitness = 2.731668375416001\n",
      "Generation 82: Best Fitness = 2.731668375416001\n",
      "Generation 83: Best Fitness = 2.731668375416001\n",
      "Generation 84: Best Fitness = 2.731668375416001\n",
      "Generation 85: Best Fitness = 2.731668375416001\n",
      "Generation 86: Best Fitness = 2.7318855517681677\n",
      "Generation 87: Best Fitness = 2.7599264504842895\n",
      "Generation 88: Best Fitness = 2.7610897975155377\n",
      "Generation 89: Best Fitness = 2.7610897975155377\n",
      "Generation 90: Best Fitness = 2.7610897975155377\n",
      "Generation 91: Best Fitness = 2.7610897975155377\n",
      "Generation 92: Best Fitness = 2.7610897975155377\n",
      "Generation 93: Best Fitness = 2.761122952025336\n",
      "Generation 94: Best Fitness = 2.761122952025336\n",
      "Generation 95: Best Fitness = 2.7611314301006784\n",
      "Generation 96: Best Fitness = 2.7611314301006784\n",
      "Generation 97: Best Fitness = 2.7611314301006784\n",
      "Generation 98: Best Fitness = 2.7629489584544022\n",
      "Generation 99: Best Fitness = 2.7629489584544022\n"
     ]
    }
   ],
   "source": [
    "def genetic_algorithm(returns, num_generations, pop_size, num_parents, mutation_rate):\n",
    "    num_assets = returns.shape[1]\n",
    "    population = initialize_population(pop_size, num_assets)\n",
    "    for generation in range(num_generations):\n",
    "        fitness_scores = np.array([fitness_function(weights, returns) for weights in population])\n",
    "        parents = selection(population, fitness_scores, num_parents)\n",
    "        offspring_size = (pop_size - parents.shape[0], num_assets)\n",
    "        offspring = crossover(parents, offspring_size)\n",
    "        offspring = mutation(offspring, mutation_rate)\n",
    "        population[0:parents.shape[0], :] = parents\n",
    "        population[parents.shape[0]:, :] = offspring\n",
    "        best_fitness = np.max(fitness_scores)\n",
    "        print(f\"Generation {generation}: Best Fitness = {best_fitness}\")\n",
    "    return population, fitness_scores\n",
    "\n",
    "num_generations = 100\n",
    "population, fitness_scores = genetic_algorithm(returns, num_generations, pop_size, num_parents, mutation_rate=0.01)\n"
   ]
  },
  {
   "cell_type": "markdown",
   "metadata": {
    "id": "YFQ1uXj5xNuu"
   },
   "source": [
    "# Evaluate Best portfolio"
   ]
  },
  {
   "cell_type": "code",
   "execution_count": 42,
   "metadata": {
    "colab": {
     "base_uri": "https://localhost:8080/"
    },
    "id": "6vLI0G12Fxfc",
    "outputId": "061304f9-ef21-447f-87c7-f1782a0e732f"
   },
   "outputs": [
    {
     "name": "stdout",
     "output_type": "stream",
     "text": [
      "Best Portfolio Weights: [0.01644336 0.08476277 0.52198998 0.62815317 0.5433535 ]\n",
      "Expected Annual Return: 492.3823055102672\n",
      "Annual Volatility: 178.2089763198907\n",
      "Sharpe Ratio: 2.7629489584544022\n"
     ]
    }
   ],
   "source": [
    "best_idx = np.argmax(fitness_scores)\n",
    "best_portfolio = population[best_idx, :]\n",
    "best_portfolio_return = np.sum(returns.mean() * best_portfolio) * 252\n",
    "best_portfolio_stddev = np.sqrt(np.dot(best_portfolio.T, np.dot(returns.cov() * 252, best_portfolio)))\n",
    "best_portfolio_sharpe = best_portfolio_return / best_portfolio_stddev\n",
    "\n",
    "print(f\"Best Portfolio Weights: {best_portfolio}\")\n",
    "print(f\"Expected Annual Return: {best_portfolio_return}\")\n",
    "print(f\"Annual Volatility: {best_portfolio_stddev}\")\n",
    "print(f\"Sharpe Ratio: {best_portfolio_sharpe}\")\n"
   ]
  },
  {
   "cell_type": "markdown",
   "metadata": {
    "id": "tybZDt2YxUIU"
   },
   "source": []
  }
 ],
 "metadata": {
  "colab": {
   "provenance": []
  },
  "kernelspec": {
   "display_name": "Python 3 (ipykernel)",
   "language": "python",
   "name": "python3"
  },
  "language_info": {
   "codemirror_mode": {
    "name": "ipython",
    "version": 3
   },
   "file_extension": ".py",
   "mimetype": "text/x-python",
   "name": "python",
   "nbconvert_exporter": "python",
   "pygments_lexer": "ipython3",
   "version": "3.12.4"
  }
 },
 "nbformat": 4,
 "nbformat_minor": 4
}
